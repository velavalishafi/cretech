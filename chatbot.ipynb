{
  "cells": [
    {
      "cell_type": "markdown",
      "metadata": {
        "id": "view-in-github",
        "colab_type": "text"
      },
      "source": [
        "<a href=\"https://colab.research.google.com/github/velavalishafi/cretech/blob/main/chatbot.ipynb\" target=\"_parent\"><img src=\"https://colab.research.google.com/assets/colab-badge.svg\" alt=\"Open In Colab\"/></a>"
      ]
    },
    {
      "cell_type": "code",
      "execution_count": null,
      "metadata": {
        "colab": {
          "base_uri": "https://localhost:8080/"
        },
        "id": "I9sX8-RpEdau",
        "outputId": "4b081b7a-2588-496c-b19b-a28d4312e981"
      },
      "outputs": [
        {
          "name": "stdout",
          "output_type": "stream",
          "text": [
            "Requirement already satisfied: nltk in /usr/local/lib/python3.11/dist-packages (3.9.1)\n",
            "Requirement already satisfied: click in /usr/local/lib/python3.11/dist-packages (from nltk) (8.1.8)\n",
            "Requirement already satisfied: joblib in /usr/local/lib/python3.11/dist-packages (from nltk) (1.5.0)\n",
            "Requirement already satisfied: regex>=2021.8.3 in /usr/local/lib/python3.11/dist-packages (from nltk) (2024.11.6)\n",
            "Requirement already satisfied: tqdm in /usr/local/lib/python3.11/dist-packages (from nltk) (4.67.1)\n"
          ]
        }
      ],
      "source": [
        "pip install nltk\n"
      ]
    },
    {
      "cell_type": "code",
      "execution_count": 1,
      "metadata": {
        "colab": {
          "base_uri": "https://localhost:8080/"
        },
        "id": "RwZmnGVpEYFj",
        "outputId": "47882452-5ba2-4a38-ac09-b664299c24a6"
      },
      "outputs": [
        {
          "output_type": "stream",
          "name": "stderr",
          "text": [
            "[nltk_data] Downloading package punkt to /root/nltk_data...\n",
            "[nltk_data]   Unzipping tokenizers/punkt.zip.\n"
          ]
        },
        {
          "output_type": "stream",
          "name": "stdout",
          "text": [
            "Hi! I'm your chatbot.❤️(❁´◡`❁) \n",
            "Type 'quit', 'bye', or 'exit' to end the conversation.\n",
            ">hi\n",
            "Hey!\n",
            ">hlo\n",
            "Sorry, I didn't understand that. Can you rephrase?\n",
            ">hello\n",
            "Hey!\n",
            ">hj\n",
            "Sorry, I didn't understand that. Can you rephrase?\n",
            ">quit\n",
            "Goodbye!\n"
          ]
        }
      ],
      "source": [
        "import nltk\n",
        "from nltk.chat.util import Chat, reflections\n",
        "\n",
        "nltk.download('punkt')\n",
        "\n",
        "pairs = [\n",
        "    [r\"hi|hello|hey\", [\"Hello!\", \"Hi there!\", \"Hey!\"]],\n",
        "    [r\"how are you?\", [\"I'm doing great. How about you?\", \"I'm fine, thank you!\"]],\n",
        "    [r\"what is your name?\", [\"I'm a chatbot created by you.\", \"You can call me Crete!\"]],\n",
        "    [r\"quit|bye|exit\", [\"Goodbye!\", \"See you later!\"]],  # Exit commands\n",
        "    [r\".*\", [\"Sorry, I didn't understand that. Can you rephrase?\"]]\n",
        "]\n",
        "\n",
        "chatbot = Chat(pairs, reflections)\n",
        "\n",
        "\n",
        "print(\"Hi! I'm your chatbot.❤️(❁´◡`❁) \")\n",
        "print(\"Type 'quit', 'bye', or 'exit' to end the conversation.\")\n",
        "chatbot.converse()"
      ]
    }
  ],
  "metadata": {
    "colab": {
      "provenance": [],
      "authorship_tag": "ABX9TyO2+Vtr9R4Ij2Nl7Dx8yNZI",
      "include_colab_link": true
    },
    "kernelspec": {
      "display_name": "Python 3",
      "name": "python3"
    },
    "language_info": {
      "name": "python"
    }
  },
  "nbformat": 4,
  "nbformat_minor": 0
}