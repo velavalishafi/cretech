{
  "nbformat": 4,
  "nbformat_minor": 0,
  "metadata": {
    "colab": {
      "provenance": [],
      "authorship_tag": "ABX9TyM11vGHbnIquTntFU713o8L",
      "include_colab_link": true
    },
    "kernelspec": {
      "name": "python3",
      "display_name": "Python 3"
    },
    "language_info": {
      "name": "python"
    }
  },
  "cells": [
    {
      "cell_type": "markdown",
      "metadata": {
        "id": "view-in-github",
        "colab_type": "text"
      },
      "source": [
        "<a href=\"https://colab.research.google.com/github/velavalishafi/cretech/blob/main/weather.ipynb\" target=\"_parent\"><img src=\"https://colab.research.google.com/assets/colab-badge.svg\" alt=\"Open In Colab\"/></a>"
      ]
    },
    {
      "cell_type": "code",
      "execution_count": 11,
      "metadata": {
        "id": "KyqzqJsIPnSX",
        "colab": {
          "base_uri": "https://localhost:8080/"
        },
        "outputId": "3e6c71c1-327f-4a77-c537-166045915f49"
      },
      "outputs": [
        {
          "output_type": "stream",
          "name": "stdout",
          "text": [
            "Enter a city name: kokatam\n",
            "\n",
            "Weather Forecast:\n",
            "Temperature Max (°C): 40.8\n",
            "Temperature Min (°C): 27.1\n",
            "Humidity (%): 46\n",
            "Wind Speed (m/s): 2.2\n",
            "Precipitation (%): 1\n"
          ]
        }
      ],
      "source": [
        "import requests\n",
        "\n",
        "API_KEY = 'Weshj1mUwrrLhHP178rNog6mm0gkn45I'  # Replace with your real API key\n",
        "BASE_URL = 'https://api.tomorrow.io/v4/weather/forecast'\n",
        "\n",
        "def fetch_weather(city):\n",
        "    params = {\n",
        "        'location': city,\n",
        "        'apikey': API_KEY,\n",
        "        'units': 'metric'\n",
        "    }\n",
        "    try:\n",
        "        response = requests.get(BASE_URL, params=params)\n",
        "        response.raise_for_status()\n",
        "        return response.json()\n",
        "    except requests.RequestException as e:\n",
        "        print(\"Error fetching data:\", e)\n",
        "        return None\n",
        "\n",
        "def parse_weather(data):\n",
        "    if not data or 'timelines' not in data:\n",
        "        return None\n",
        "    try:\n",
        "        current_data = data['timelines']['daily'][0]['values']\n",
        "        weather_info = {\n",
        "            'Temperature Max (°C)': current_data['temperatureMax'],\n",
        "            'Temperature Min (°C)': current_data['temperatureMin'],\n",
        "            'Humidity (%)': current_data.get('humidityAvg', 'N/A'),\n",
        "            'Wind Speed (m/s)': current_data.get('windSpeedAvg', 'N/A'),\n",
        "            'Precipitation (%)': current_data.get('precipitationProbabilityAvg', 'N/A')\n",
        "        }\n",
        "        return weather_info\n",
        "    except (KeyError, IndexError):\n",
        "        return None\n",
        "\n",
        "def display_weather(info):\n",
        "    if not info:\n",
        "        print(\"No data to display.\")\n",
        "        return\n",
        "    print(\"\\nWeather Forecast:\")\n",
        "    for key, value in info.items():\n",
        "        print(f\"{key}: {value}\")\n",
        "\n",
        "if __name__ == \"__main__\":\n",
        "    city_name = input(\"Enter a city name: \")\n",
        "    raw_data = fetch_weather(city_name)\n",
        "    weather_details = parse_weather(raw_data)\n",
        "    display_weather(weather_details)\n"
      ]
    }
  ]
}