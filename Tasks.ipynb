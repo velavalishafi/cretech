{
  "nbformat": 4,
  "nbformat_minor": 0,
  "metadata": {
    "colab": {
      "provenance": [],
      "authorship_tag": "ABX9TyNSaAuqI+JnpIb7mbk8fdX6",
      "include_colab_link": true
    },
    "kernelspec": {
      "name": "python3",
      "display_name": "Python 3"
    },
    "language_info": {
      "name": "python"
    }
  },
  "cells": [
    {
      "cell_type": "markdown",
      "metadata": {
        "id": "view-in-github",
        "colab_type": "text"
      },
      "source": [
        "<a href=\"https://colab.research.google.com/github/velavalishafi/cretech/blob/main/Tasks.ipynb\" target=\"_parent\"><img src=\"https://colab.research.google.com/assets/colab-badge.svg\" alt=\"Open In Colab\"/></a>"
      ]
    },
    {
      "cell_type": "code",
      "execution_count": null,
      "metadata": {
        "colab": {
          "base_uri": "https://localhost:8080/"
        },
        "id": "YNmUy9Z-hU2Z",
        "outputId": "d819f45c-302b-4517-a6ee-851f4d272ef7"
      },
      "outputs": [
        {
          "output_type": "stream",
          "name": "stdout",
          "text": [
            "\n",
            "=== TASK MANAGER ===\n",
            "1. View Tasks\n",
            "2. Add Task\n",
            "3. Mark Task as Completed\n",
            "4. Exit\n",
            "Choose an option: 1\n",
            "1. Read a book (2025-05-20) - ✗\n",
            "  Finish 2 chapters\n",
            "\n",
            "2. Workout (2025-05-21) - ✗\n",
            "  30 mins running\n",
            "\n",
            "3. Read a book (2025-05-20) - ✗\n",
            "  Finish 2 chapters\n",
            "\n",
            "4. Workout (2025-05-21) - ✗\n",
            "  30 mins running\n",
            "\n",
            "5. Read a book (2025-05-20) - ✗\n",
            "  Finish 2 chapters\n",
            "\n",
            "6. Workout (2025-05-21) - ✓\n",
            "  30 mins running\n",
            "\n",
            "7. reading (2025) - ✗\n",
            "  lion\n",
            "\n",
            "8. Read a book (2025-05-20) - ✗\n",
            "  Finish 2 chapters\n",
            "\n",
            "9. Workout (2025-05-21) - ✗\n",
            "  30 mins running\n",
            "\n",
            "10. Read a book (2025-05-20) - ✗\n",
            "  Finish 2 chapters\n",
            "\n",
            "11. Workout (2025-05-21) - ✗\n",
            "  30 mins running\n",
            "\n",
            "\n",
            "=== TASK MANAGER ===\n",
            "1. View Tasks\n",
            "2. Add Task\n",
            "3. Mark Task as Completed\n",
            "4. Exit\n"
          ]
        }
      ],
      "source": [
        "import csv\n",
        "import os\n",
        "\n",
        "TASKS_FILE = \"tasks.csv\"\n",
        "\n",
        "def load_tasks():\n",
        "    tasks = []\n",
        "    if os.path.exists(TASKS_FILE):\n",
        "        with open(TASKS_FILE, newline='') as file:\n",
        "            reader = csv.reader(file)\n",
        "            tasks = list(reader)\n",
        "    return tasks\n",
        "\n",
        "def save_tasks(tasks):\n",
        "    with open(TASKS_FILE, 'w', newline='') as file:\n",
        "        writer = csv.writer(file)\n",
        "        writer.writerows(tasks)\n",
        "\n",
        "def add_task(title, description, due_date):\n",
        "    tasks = load_tasks()\n",
        "    tasks.append([title, description, due_date, \"False\"])\n",
        "    save_tasks(tasks)\n",
        "\n",
        "def view_tasks():\n",
        "    tasks = load_tasks()\n",
        "    if not tasks:\n",
        "        print(\"No tasks found.\\n\")\n",
        "        return\n",
        "    for i, row in enumerate(tasks, start=1):\n",
        "        status = \"✓\" if row[3] == \"True\" else \"✗\"\n",
        "        print(f\"{i}. {row[0]} ({row[2]}) - {status}\\n  {row[1]}\\n\")\n",
        "\n",
        "def mark_completed(task_number):\n",
        "    tasks = load_tasks()\n",
        "    if 0 < task_number <= len(tasks):\n",
        "        tasks[task_number - 1][3] = \"True\"\n",
        "        save_tasks(tasks)\n",
        "    else:\n",
        "        print(\"Invalid task number.\\n\")\n",
        "\n",
        "def main_menu():\n",
        "    while True:\n",
        "        print(\"\\n=== TASK MANAGER ===\")\n",
        "        print(\"1. View Tasks\")\n",
        "        print(\"2. Add Task\")\n",
        "        print(\"3. Mark Task as Completed\")\n",
        "        print(\"4. Exit\")\n",
        "        choice = input(\"Choose an option: \")\n",
        "\n",
        "        if choice == \"1\":\n",
        "            view_tasks()\n",
        "        elif choice == \"2\":\n",
        "            title = input(\"Title: \")\n",
        "            description = input(\"Description: \")\n",
        "            due_date = input(\"Due Date (YYYY-MM-DD): \")\n",
        "            add_task(title, description, due_date)\n",
        "        elif choice == \"3\":\n",
        "            view_tasks()\n",
        "            try:\n",
        "                num = int(input(\"Enter task number to mark as completed: \"))\n",
        "                mark_completed(num)\n",
        "            except ValueError:\n",
        "                print(\"Please enter a valid number.\")\n",
        "        elif choice == \"4\":\n",
        "            print(\"Goodbye!\")\n",
        "            break\n",
        "        else:\n",
        "            print(\"Invalid choice. Try again.\")\n",
        "\n",
        "if __name__ == \"__main__\":\n",
        "    main_menu()\n"
      ]
    },
    {
      "cell_type": "code",
      "source": [],
      "metadata": {
        "id": "YLMvS5G8i9fS"
      },
      "execution_count": null,
      "outputs": []
    },
    {
      "cell_type": "code",
      "source": [],
      "metadata": {
        "id": "DxX36bAoi-pr"
      },
      "execution_count": null,
      "outputs": []
    }
  ]
}